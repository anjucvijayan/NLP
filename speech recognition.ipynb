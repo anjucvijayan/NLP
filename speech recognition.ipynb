{
 "cells": [
  {
   "cell_type": "code",
   "execution_count": 1,
   "id": "2320dce2",
   "metadata": {},
   "outputs": [
    {
     "name": "stdout",
     "output_type": "stream",
     "text": [
      "Defaulting to user installation because normal site-packages is not writeable\n",
      "Requirement already satisfied: pipwin in c:\\users\\anjuc\\appdata\\roaming\\python\\python39\\site-packages (0.5.2)\n",
      "Requirement already satisfied: beautifulsoup4>=4.9.0 in c:\\programdata\\anaconda3\\lib\\site-packages (from pipwin) (4.11.1)\n",
      "Requirement already satisfied: packaging in c:\\programdata\\anaconda3\\lib\\site-packages (from pipwin) (21.3)\n",
      "Requirement already satisfied: pyprind in c:\\users\\anjuc\\appdata\\roaming\\python\\python39\\site-packages (from pipwin) (2.11.3)\n",
      "Requirement already satisfied: js2py in c:\\users\\anjuc\\appdata\\roaming\\python\\python39\\site-packages (from pipwin) (0.74)\n",
      "Requirement already satisfied: docopt in c:\\users\\anjuc\\appdata\\roaming\\python\\python39\\site-packages (from pipwin) (0.6.2)\n",
      "Requirement already satisfied: requests in c:\\programdata\\anaconda3\\lib\\site-packages (from pipwin) (2.28.1)\n",
      "Requirement already satisfied: six in c:\\programdata\\anaconda3\\lib\\site-packages (from pipwin) (1.16.0)\n",
      "Requirement already satisfied: pySmartDL>=1.3.1 in c:\\users\\anjuc\\appdata\\roaming\\python\\python39\\site-packages (from pipwin) (1.3.4)\n",
      "Requirement already satisfied: soupsieve>1.2 in c:\\programdata\\anaconda3\\lib\\site-packages (from beautifulsoup4>=4.9.0->pipwin) (2.3.1)\n",
      "Requirement already satisfied: tzlocal>=1.2 in c:\\users\\anjuc\\appdata\\roaming\\python\\python39\\site-packages (from js2py->pipwin) (4.2)\n",
      "Requirement already satisfied: pyjsparser>=2.5.1 in c:\\users\\anjuc\\appdata\\roaming\\python\\python39\\site-packages (from js2py->pipwin) (2.7.1)\n",
      "Requirement already satisfied: pyparsing!=3.0.5,>=2.0.2 in c:\\programdata\\anaconda3\\lib\\site-packages (from packaging->pipwin) (3.0.9)\n",
      "Requirement already satisfied: charset-normalizer<3,>=2 in c:\\programdata\\anaconda3\\lib\\site-packages (from requests->pipwin) (2.0.4)\n",
      "Requirement already satisfied: urllib3<1.27,>=1.21.1 in c:\\programdata\\anaconda3\\lib\\site-packages (from requests->pipwin) (1.26.11)\n",
      "Requirement already satisfied: idna<4,>=2.5 in c:\\programdata\\anaconda3\\lib\\site-packages (from requests->pipwin) (3.3)\n",
      "Requirement already satisfied: certifi>=2017.4.17 in c:\\users\\anjuc\\appdata\\roaming\\python\\python39\\site-packages (from requests->pipwin) (2022.12.7)\n",
      "Requirement already satisfied: pytz-deprecation-shim in c:\\users\\anjuc\\appdata\\roaming\\python\\python39\\site-packages (from tzlocal>=1.2->js2py->pipwin) (0.1.0.post0)\n",
      "Requirement already satisfied: tzdata in c:\\users\\anjuc\\appdata\\roaming\\python\\python39\\site-packages (from tzlocal>=1.2->js2py->pipwin) (2022.7)\n"
     ]
    }
   ],
   "source": [
    "!pip install pipwin"
   ]
  },
  {
   "cell_type": "code",
   "execution_count": 2,
   "id": "648ed926",
   "metadata": {},
   "outputs": [
    {
     "name": "stdout",
     "output_type": "stream",
     "text": [
      "Defaulting to user installation because normal site-packages is not writeable\n",
      "Requirement already satisfied: pyaudio in c:\\users\\anjuc\\appdata\\roaming\\python\\python39\\site-packages (0.2.13)\n",
      "Note: you may need to restart the kernel to use updated packages.\n"
     ]
    }
   ],
   "source": [
    "pip install --trusted-host pypi.python.org pyaudio"
   ]
  },
  {
   "cell_type": "code",
   "execution_count": 4,
   "id": "8032ec3b",
   "metadata": {},
   "outputs": [
    {
     "name": "stdout",
     "output_type": "stream",
     "text": [
      "Defaulting to user installation because normal site-packages is not writeable\n",
      "Collecting SpeechRecognition\n",
      "  Downloading SpeechRecognition-3.9.0-py2.py3-none-any.whl (32.8 MB)\n",
      "     --------------------------------------- 32.8/32.8 MB 59.1 kB/s eta 0:00:00\n",
      "Requirement already satisfied: requests>=2.26.0 in c:\\programdata\\anaconda3\\lib\\site-packages (from SpeechRecognition) (2.28.1)\n",
      "Requirement already satisfied: idna<4,>=2.5 in c:\\programdata\\anaconda3\\lib\\site-packages (from requests>=2.26.0->SpeechRecognition) (3.3)\n",
      "Requirement already satisfied: certifi>=2017.4.17 in c:\\users\\anjuc\\appdata\\roaming\\python\\python39\\site-packages (from requests>=2.26.0->SpeechRecognition) (2022.12.7)\n",
      "Requirement already satisfied: charset-normalizer<3,>=2 in c:\\programdata\\anaconda3\\lib\\site-packages (from requests>=2.26.0->SpeechRecognition) (2.0.4)\n",
      "Requirement already satisfied: urllib3<1.27,>=1.21.1 in c:\\programdata\\anaconda3\\lib\\site-packages (from requests>=2.26.0->SpeechRecognition) (1.26.11)\n",
      "Installing collected packages: SpeechRecognition\n",
      "Successfully installed SpeechRecognition-3.9.0\n",
      "Note: you may need to restart the kernel to use updated packages.\n"
     ]
    }
   ],
   "source": [
    "pip install SpeechRecognition"
   ]
  },
  {
   "cell_type": "code",
   "execution_count": 5,
   "id": "62aafad6",
   "metadata": {},
   "outputs": [],
   "source": [
    "import speech_recognition as s"
   ]
  },
  {
   "cell_type": "code",
   "execution_count": 7,
   "id": "1e32c16f",
   "metadata": {},
   "outputs": [
    {
     "name": "stdout",
     "output_type": "stream",
     "text": [
      " please tell...\n",
      "result2:\n",
      "{   'alternative': [   {'confidence': 0.94950378, 'transcript': 'hello'},\n",
      "                       {'transcript': 'okay hello'},\n",
      "                       {'transcript': 'hello hello'},\n",
      "                       {'transcript': 'no good day hello'},\n",
      "                       {'transcript': 'good day hello'}],\n",
      "    'final': True}\n",
      "hello\n"
     ]
    }
   ],
   "source": [
    "sr=s.Recognizer()\n",
    "print(\" please tell...\")\n",
    "with s.Microphone() as source:\n",
    "    audio=sr.listen(source)\n",
    "    query=sr.recognize_google(audio,language='eng-in')\n",
    "    print(query)"
   ]
  },
  {
   "cell_type": "code",
   "execution_count": null,
   "id": "f4beaea6",
   "metadata": {},
   "outputs": [],
   "source": []
  }
 ],
 "metadata": {
  "kernelspec": {
   "display_name": "Python 3 (ipykernel)",
   "language": "python",
   "name": "python3"
  },
  "language_info": {
   "codemirror_mode": {
    "name": "ipython",
    "version": 3
   },
   "file_extension": ".py",
   "mimetype": "text/x-python",
   "name": "python",
   "nbconvert_exporter": "python",
   "pygments_lexer": "ipython3",
   "version": "3.9.13"
  }
 },
 "nbformat": 4,
 "nbformat_minor": 5
}
