{
 "cells": [
  {
   "cell_type": "markdown",
   "id": "558a2813",
   "metadata": {},
   "source": [
    "# stop words are those words that do not contribute to the deeper meaning of the phrase. they are the most common words such as: the ,a ,and,is .for some applications like document classification, it may make sense to remove stop words. NLTK provides a list of commonly agreed upon stop words for a variety of languages such as English"
   ]
  },
  {
   "cell_type": "code",
   "execution_count": 1,
   "id": "49d006c2",
   "metadata": {},
   "outputs": [],
   "source": [
    "import spacy\n",
    "nlp=spacy.load('en_core_web_sm')"
   ]
  },
  {
   "cell_type": "code",
   "execution_count": 2,
   "id": "702f7a97",
   "metadata": {},
   "outputs": [
    {
     "name": "stderr",
     "output_type": "stream",
     "text": [
      "[nltk_data] Error loading stopwords: <urlopen error [WinError 10060] A\n",
      "[nltk_data]     connection attempt failed because the connected party\n",
      "[nltk_data]     did not properly respond after a period of time, or\n",
      "[nltk_data]     established connection failed because connected host\n",
      "[nltk_data]     has failed to respond>\n"
     ]
    },
    {
     "data": {
      "text/plain": [
       "False"
      ]
     },
     "execution_count": 2,
     "metadata": {},
     "output_type": "execute_result"
    }
   ],
   "source": [
    "import nltk\n",
    "nltk.download('stopwords')"
   ]
  },
  {
   "cell_type": "code",
   "execution_count": 3,
   "id": "36317e13",
   "metadata": {},
   "outputs": [
    {
     "name": "stdout",
     "output_type": "stream",
     "text": [
      "{'is', 'toward', 'ca', 'between', 'beforehand', 'well', 'three', 'move', 'using', 'not', 'nothing', 'anything', 'throughout', 'very', 'must', \"'ll\", 'therefore', 'with', 'someone', 'each', '‘m', 'those', 'doing', 'your', 'in', 'seems', 'being', 'become', 'over', 'was', 'another', 'nowhere', 'she', 'empty', 'one', 'what', 'would', 'while', '’d', 'ever', 'formerly', 'next', 'from', 'there', 'now', 'ourselves', 'herself', 'besides', 'itself', 'again', 'do', 'done', 'moreover', 'whenever', 'make', 'nine', 'us', 'unless', 'around', 'ten', 'sometimes', 'anyhow', 'about', 'part', 'hence', 'hereafter', 'hereupon', 'becomes', 'front', 're', 'via', 'quite', 'everywhere', 'themselves', 'who', 'least', 'through', 'together', 'you', 'go', \"'re\", 'on', 'nor', 'sixty', 'onto', '‘re', 'amongst', 'he', 'however', 'both', 'although', 'else', 'n’t', 'only', 'here', 'along', 'per', 'anyway', 'herein', 'were', 'nevertheless', 'at', 'former', 'beyond', 'all', 'somewhere', 'latter', 'call', 'hundred', 'most', 'forty', 'they', 'just', 'may', 'off', 'rather', 'could', '‘ll', 'my', 'noone', 'which', 'yourself', 'had', 'latterly', 'below', 'been', 'did', 'bottom', 'her', 'thereafter', 'same', '‘d', 'six', 'an', 'sometime', 'are', 'became', 'first', 'within', '’ve', 'thereupon', 'further', 'everyone', 'see', 'once', 'of', 'under', 'behind', 'really', 'due', 'enough', 'without', 'seem', 'last', 'seemed', 'since', 'when', 'whoever', 'whereupon', 'often', 'fifty', 'various', 'more', 'because', 'until', 'used', 'me', 'up', 'afterwards', 'serious', 'and', 'n‘t', \"'s\", 'nobody', \"'m\", 'meanwhile', 'neither', 'after', 'hers', 'myself', 'whether', 'everything', 'get', 'to', 'whereafter', 'therein', 'whither', 'their', 'be', 'whereby', 'upon', 'wherever', 'seeming', 'no', '’re', 'eleven', 'already', 'give', 'than', 'never', 'these', 'where', 'thereby', 'our', 'namely', 'should', 'himself', 'ours', 'every', \"'ve\", 'side', 'during', 'twelve', 'twenty', 'any', 'except', 'have', 'made', 'becoming', 'down', 'four', '‘s', 'too', 'then', 'them', 'otherwise', 'has', 'above', 'but', 'its', 'back', 'will', 'such', 'many', 'indeed', 'as', 'regarding', 'two', 'eight', 'own', 'i', '’s', 'somehow', 'much', 'amount', 'third', 'anywhere', 'against', 'or', 'say', 'the', 'by', 'name', 'five', 'it', 'so', 'perhaps', 'am', 'put', 'for', 'whereas', \"n't\", 'mostly', 'elsewhere', 'take', 'even', '’ll', 'anyone', 'still', 'alone', 'something', 'might', 'yours', 'into', 'across', 'whatever', 'please', 'few', \"'d\", 'towards', 'also', 'either', 'whence', 'thence', 'show', 'thru', 'thus', 'how', 'we', 'him', 'out', 'none', 'yet', 'others', 'top', 'some', 'if', 'mine', 'several', 'yourselves', 'does', 'fifteen', 'his', 'can', 'though', 'other', 'that', 'a', 'less', 'whose', 'wherein', 'full', 'among', 'hereby', 'whom', 'before', 'always', 'this', 'why', '’m', 'cannot', 'beside', 'whole', 'keep', '‘ve', 'almost'}\n"
     ]
    }
   ],
   "source": [
    "#print the set of spacy's default stop words\n",
    "print(nlp.Defaults.stop_words)"
   ]
  },
  {
   "cell_type": "code",
   "execution_count": 4,
   "id": "8ef4863a",
   "metadata": {},
   "outputs": [
    {
     "data": {
      "text/plain": [
       "326"
      ]
     },
     "execution_count": 4,
     "metadata": {},
     "output_type": "execute_result"
    }
   ],
   "source": [
    "len(nlp.Defaults.stop_words)"
   ]
  },
  {
   "cell_type": "markdown",
   "id": "04a17844",
   "metadata": {},
   "source": [
    "# to see if a word is a stop word"
   ]
  },
  {
   "cell_type": "code",
   "execution_count": 5,
   "id": "eb1aa841",
   "metadata": {},
   "outputs": [
    {
     "data": {
      "text/plain": [
       "True"
      ]
     },
     "execution_count": 5,
     "metadata": {},
     "output_type": "execute_result"
    }
   ],
   "source": [
    "nlp.vocab['myself'].is_stop"
   ]
  },
  {
   "cell_type": "code",
   "execution_count": 6,
   "id": "424702a6",
   "metadata": {},
   "outputs": [
    {
     "data": {
      "text/plain": [
       "False"
      ]
     },
     "execution_count": 6,
     "metadata": {},
     "output_type": "execute_result"
    }
   ],
   "source": [
    "nlp.vocab['mystery'].is_stop"
   ]
  },
  {
   "cell_type": "code",
   "execution_count": 7,
   "id": "7989d6e4",
   "metadata": {},
   "outputs": [],
   "source": [
    "#add the word to the set of stopwords \n",
    "nlp.Defaults.stop_words.add('mystery')\n",
    "nlp.vocab['mystery'].is_stop=True"
   ]
  },
  {
   "cell_type": "code",
   "execution_count": 8,
   "id": "db3087b7",
   "metadata": {},
   "outputs": [
    {
     "data": {
      "text/plain": [
       "True"
      ]
     },
     "execution_count": 8,
     "metadata": {},
     "output_type": "execute_result"
    }
   ],
   "source": [
    "nlp.vocab['mystery'].is_stop"
   ]
  },
  {
   "cell_type": "markdown",
   "id": "9d49a0af",
   "metadata": {},
   "source": [
    "# to remove stop words"
   ]
  },
  {
   "cell_type": "code",
   "execution_count": 9,
   "id": "6208b0e8",
   "metadata": {},
   "outputs": [
    {
     "data": {
      "text/plain": [
       "True"
      ]
     },
     "execution_count": 9,
     "metadata": {},
     "output_type": "execute_result"
    }
   ],
   "source": [
    "nlp.vocab['beyond'].is_stop"
   ]
  },
  {
   "cell_type": "code",
   "execution_count": 10,
   "id": "626a34ff",
   "metadata": {},
   "outputs": [],
   "source": [
    "nlp.Defaults.stop_words.remove('beyond')\n",
    "nlp.vocab['beyond'].is_stop=False"
   ]
  },
  {
   "cell_type": "code",
   "execution_count": 11,
   "id": "42924a48",
   "metadata": {},
   "outputs": [
    {
     "data": {
      "text/plain": [
       "False"
      ]
     },
     "execution_count": 11,
     "metadata": {},
     "output_type": "execute_result"
    }
   ],
   "source": [
    "nlp.vocab['beyond'].is_stop"
   ]
  },
  {
   "cell_type": "code",
   "execution_count": 12,
   "id": "ef0e6140",
   "metadata": {},
   "outputs": [
    {
     "name": "stderr",
     "output_type": "stream",
     "text": [
      "[nltk_data] Error loading punkt: <urlopen error [WinError 10060] A\n",
      "[nltk_data]     connection attempt failed because the connected party\n",
      "[nltk_data]     did not properly respond after a period of time, or\n",
      "[nltk_data]     established connection failed because connected host\n",
      "[nltk_data]     has failed to respond>\n"
     ]
    }
   ],
   "source": [
    "import string\n",
    "import re\n",
    "import nltk\n",
    "nltk.download('punkt')\n",
    "from nltk import word_tokenize,sent_tokenize\n",
    "from nltk.corpus import stopwords"
   ]
  },
  {
   "cell_type": "code",
   "execution_count": 13,
   "id": "45f8c7f3",
   "metadata": {},
   "outputs": [],
   "source": [
    "#load data\n",
    "text='the quick brown fox jump over the lazy dog!'"
   ]
  },
  {
   "cell_type": "code",
   "execution_count": 14,
   "id": "6b65ee2a",
   "metadata": {},
   "outputs": [
    {
     "name": "stdout",
     "output_type": "stream",
     "text": [
      "['the', 'quick', 'brown', 'fox', 'jump', 'over', 'the', 'lazy', 'dog', '!']\n"
     ]
    }
   ],
   "source": [
    "#split in to words\n",
    "tokens=word_tokenize(text)\n",
    "print(tokens)"
   ]
  },
  {
   "cell_type": "code",
   "execution_count": 15,
   "id": "a230a4fc",
   "metadata": {},
   "outputs": [
    {
     "name": "stdout",
     "output_type": "stream",
     "text": [
      "['the', 'quick', 'brown', 'fox', 'jump', 'over', 'the', 'lazy', 'dog', '!']\n"
     ]
    }
   ],
   "source": [
    "#convert to lower case\n",
    "tokens=[w.lower() for w in tokens]\n",
    "print(tokens)"
   ]
  },
  {
   "cell_type": "code",
   "execution_count": 17,
   "id": "5e6e8ddd",
   "metadata": {},
   "outputs": [
    {
     "name": "stdout",
     "output_type": "stream",
     "text": [
      "re.compile('[!\"\\\\#\\\\$%\\\\&\\'\\\\(\\\\)\\\\*\\\\+,\\\\-\\\\./:;<=>\\\\?@\\\\[\\\\\\\\\\\\]\\\\^_`\\\\{\\\\|\\\\}\\\\~]')\n"
     ]
    }
   ],
   "source": [
    "re_punc=re.compile('[%s]' % re.escape(string.punctuation))\n",
    "print(re_punc)"
   ]
  },
  {
   "cell_type": "code",
   "execution_count": 18,
   "id": "f2e36d9e",
   "metadata": {},
   "outputs": [
    {
     "name": "stdout",
     "output_type": "stream",
     "text": [
      "['the', 'quick', 'brown', 'fox', 'jump', 'over', 'the', 'lazy', 'dog', '']\n"
     ]
    }
   ],
   "source": [
    "stripped=[re_punc.sub('',w) for w in tokens]\n",
    "print(stripped)"
   ]
  },
  {
   "cell_type": "code",
   "execution_count": 19,
   "id": "1995c759",
   "metadata": {},
   "outputs": [],
   "source": [
    "txt='hi,welcome...--to AI world'"
   ]
  },
  {
   "cell_type": "code",
   "execution_count": 21,
   "id": "6d1e4640",
   "metadata": {},
   "outputs": [
    {
     "name": "stdout",
     "output_type": "stream",
     "text": [
      "['hi', ',', 'welcome', '...', '--', 'to', 'AI', 'world']\n"
     ]
    }
   ],
   "source": [
    "#split in to word\n",
    "tokens=word_tokenize(txt)\n",
    "print(tokens)"
   ]
  },
  {
   "cell_type": "code",
   "execution_count": 22,
   "id": "5c209811",
   "metadata": {},
   "outputs": [
    {
     "name": "stdout",
     "output_type": "stream",
     "text": [
      "['hi', '', 'welcome', '', '', 'to', 'AI', 'world']\n"
     ]
    }
   ],
   "source": [
    "#remove punctuation\n",
    "stripped1=[re_punc.sub('',w) for w in tokens]\n",
    "print(stripped1)"
   ]
  },
  {
   "cell_type": "code",
   "execution_count": 24,
   "id": "73c5e98c",
   "metadata": {},
   "outputs": [
    {
     "name": "stdout",
     "output_type": "stream",
     "text": [
      "['hi', 'welcome', 'to', 'AI', 'world']\n"
     ]
    }
   ],
   "source": [
    "#remove remaining tokens that are not in alphebetic\n",
    "words=[word for word in stripped1 if word.isalpha()]\n",
    "print(words)"
   ]
  },
  {
   "cell_type": "code",
   "execution_count": 25,
   "id": "6f18a651",
   "metadata": {},
   "outputs": [
    {
     "name": "stdout",
     "output_type": "stream",
     "text": [
      "['hi', 'welcome', 'AI', 'world']\n"
     ]
    }
   ],
   "source": [
    "#filter out non-stop words\n",
    "stop_words=set(stopwords.words('english'))\n",
    "words=[w for w in words if not w in stop_words]\n",
    "print(words)"
   ]
  },
  {
   "cell_type": "code",
   "execution_count": 26,
   "id": "a7ca4623",
   "metadata": {},
   "outputs": [
    {
     "data": {
      "text/plain": [
       "True"
      ]
     },
     "execution_count": 26,
     "metadata": {},
     "output_type": "execute_result"
    }
   ],
   "source": [
    "nlp.vocab['to'].is_stop"
   ]
  },
  {
   "cell_type": "code",
   "execution_count": null,
   "id": "9179b31d",
   "metadata": {},
   "outputs": [],
   "source": []
  }
 ],
 "metadata": {
  "kernelspec": {
   "display_name": "Python 3 (ipykernel)",
   "language": "python",
   "name": "python3"
  },
  "language_info": {
   "codemirror_mode": {
    "name": "ipython",
    "version": 3
   },
   "file_extension": ".py",
   "mimetype": "text/x-python",
   "name": "python",
   "nbconvert_exporter": "python",
   "pygments_lexer": "ipython3",
   "version": "3.9.13"
  }
 },
 "nbformat": 4,
 "nbformat_minor": 5
}
