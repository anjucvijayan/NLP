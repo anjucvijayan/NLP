{
 "cells": [
  {
   "cell_type": "markdown",
   "id": "867e963f",
   "metadata": {},
   "source": [
    "# regular expression\n"
   ]
  },
  {
   "cell_type": "code",
   "execution_count": 1,
   "id": "43869925",
   "metadata": {},
   "outputs": [],
   "source": [
    "import re"
   ]
  },
  {
   "cell_type": "code",
   "execution_count": 2,
   "id": "d8ad06da",
   "metadata": {},
   "outputs": [
    {
     "data": {
      "text/plain": [
       "['4AI']"
      ]
     },
     "execution_count": 2,
     "metadata": {},
     "output_type": "execute_result"
    }
   ],
   "source": [
    "sentence='4AI, all about intelligence'\n",
    "r1=re.findall(r'^\\w+',sentence) # r raw text\n",
    "#^ for start from beginning\n",
    "##\\w for finding alphaneumeric\n",
    "r1"
   ]
  },
  {
   "cell_type": "code",
   "execution_count": 4,
   "id": "91178863",
   "metadata": {},
   "outputs": [
    {
     "data": {
      "text/plain": [
       "['4AIallaboutintelligence']"
      ]
     },
     "execution_count": 4,
     "metadata": {},
     "output_type": "execute_result"
    }
   ],
   "source": [
    "sentence='4AIallaboutintelligence'\n",
    "r1=re.findall(r'^\\w+',sentence)\n",
    "r1"
   ]
  },
  {
   "cell_type": "code",
   "execution_count": 5,
   "id": "d5a26d70",
   "metadata": {},
   "outputs": [
    {
     "data": {
      "text/plain": [
       "['4']"
      ]
     },
     "execution_count": 5,
     "metadata": {},
     "output_type": "execute_result"
    }
   ],
   "source": [
    "sentence='4AI all about intelligence'\n",
    "r1=re.findall(r'^\\w',sentence) #+ will stop the process after\n",
    "r1"
   ]
  },
  {
   "cell_type": "code",
   "execution_count": 7,
   "id": "b0b0a4b5",
   "metadata": {},
   "outputs": [
    {
     "data": {
      "text/plain": [
       "['AI']"
      ]
     },
     "execution_count": 7,
     "metadata": {},
     "output_type": "execute_result"
    }
   ],
   "source": [
    "sentence1='AI all about intelligence,ml'\n",
    "r3=re.findall(r'^\\w+',sentence1)\n",
    "r3"
   ]
  },
  {
   "cell_type": "markdown",
   "id": "e236abbc",
   "metadata": {},
   "source": [
    "splitting the sentence"
   ]
  },
  {
   "cell_type": "code",
   "execution_count": 9,
   "id": "39faf1ce",
   "metadata": {},
   "outputs": [
    {
     "name": "stdout",
     "output_type": "stream",
     "text": [
      "['we', 'are', 'splitting', 'the', 'words']\n"
     ]
    }
   ],
   "source": [
    "print(re.split(r'\\s','we are splitting the words'))"
   ]
  },
  {
   "cell_type": "code",
   "execution_count": 10,
   "id": "861f5e57",
   "metadata": {},
   "outputs": [
    {
     "name": "stdout",
     "output_type": "stream",
     "text": [
      "['we are ', 'plitting the word', '']\n"
     ]
    }
   ],
   "source": [
    "print(re.split(r's','we are splitting the words')) # s"
   ]
  },
  {
   "cell_type": "code",
   "execution_count": 11,
   "id": "d4c9213c",
   "metadata": {},
   "outputs": [
    {
     "name": "stdout",
     "output_type": "stream",
     "text": [
      "['', 'e are splitting the ', 'ords']\n"
     ]
    }
   ],
   "source": [
    "print(re.split(r'w','we are splitting the words'))"
   ]
  },
  {
   "cell_type": "markdown",
   "id": "a0d02dd7",
   "metadata": {},
   "source": [
    "getting the digts from sentences"
   ]
  },
  {
   "cell_type": "code",
   "execution_count": 13,
   "id": "bd6a1b62",
   "metadata": {},
   "outputs": [
    {
     "data": {
      "text/plain": [
       "['8', '9', '0', '3', '5', '1', '7', '8', '9', '0']"
      ]
     },
     "execution_count": 13,
     "metadata": {},
     "output_type": "execute_result"
    }
   ],
   "source": [
    "text='contact our executive in the number 8903517890,contact any time'\n",
    "digits=re.findall(r'\\d',text)\n",
    "digits"
   ]
  },
  {
   "cell_type": "code",
   "execution_count": 14,
   "id": "36c4bf64",
   "metadata": {},
   "outputs": [
    {
     "data": {
      "text/plain": [
       "['89', '03', '51', '78', '90']"
      ]
     },
     "execution_count": 14,
     "metadata": {},
     "output_type": "execute_result"
    }
   ],
   "source": [
    "text='contact our executive in the number 8903517890,contact any time'\n",
    "digits=re.findall(r'\\d\\d',text)\n",
    "digits"
   ]
  },
  {
   "cell_type": "code",
   "execution_count": 15,
   "id": "4ca71f8a",
   "metadata": {},
   "outputs": [
    {
     "data": {
      "text/plain": [
       "['8903517890']"
      ]
     },
     "execution_count": 15,
     "metadata": {},
     "output_type": "execute_result"
    }
   ],
   "source": [
    "text='contact our executive in the number 8903517890,contact any time'\n",
    "digits=re.findall(r'\\d{10}',text)\n",
    "digits"
   ]
  },
  {
   "cell_type": "code",
   "execution_count": 16,
   "id": "7602adea",
   "metadata": {},
   "outputs": [
    {
     "data": {
      "text/plain": [
       "['890', '351', '789']"
      ]
     },
     "execution_count": 16,
     "metadata": {},
     "output_type": "execute_result"
    }
   ],
   "source": [
    "text='contact our executive in the number 8903517890,contact any time'\n",
    "digits=re.findall(r'\\d{3}',text)\n",
    "digits"
   ]
  },
  {
   "cell_type": "code",
   "execution_count": 17,
   "id": "1c5cfa9f",
   "metadata": {},
   "outputs": [
    {
     "data": {
      "text/plain": [
       "['(992)-333-7898']"
      ]
     },
     "execution_count": 17,
     "metadata": {},
     "output_type": "execute_result"
    }
   ],
   "source": [
    "word=\"our company's help desk number is (992)-333-7898,contact any time\"\n",
    "numbers=re.findall('\\(\\d{3}\\)-\\d{3}-\\d{4}',word)\n",
    "numbers"
   ]
  },
  {
   "cell_type": "code",
   "execution_count": 20,
   "id": "b3ee0643",
   "metadata": {},
   "outputs": [
    {
     "data": {
      "text/plain": [
       "['(992)-333-7898', '9025410000']"
      ]
     },
     "execution_count": 20,
     "metadata": {},
     "output_type": "execute_result"
    }
   ],
   "source": [
    "word=\"our company's help desk number is (992)-333-7898,indian citizens contact in 9025410000 contact any time\"\n",
    "number1=re.findall('\\(\\d{3}\\)-\\d{3}-\\d{4}|\\d{10}',word)\n",
    "number1"
   ]
  },
  {
   "cell_type": "code",
   "execution_count": 21,
   "id": "00a7afde",
   "metadata": {},
   "outputs": [
    {
     "data": {
      "text/plain": [
       "['o',\n",
       " 'u',\n",
       " 'r',\n",
       " ' ',\n",
       " 'c',\n",
       " 'o',\n",
       " 'm',\n",
       " 'p',\n",
       " 'a',\n",
       " 'n',\n",
       " 'y',\n",
       " \"'\",\n",
       " 's',\n",
       " ' ',\n",
       " 'h',\n",
       " 'e',\n",
       " 'l',\n",
       " 'p',\n",
       " ' ',\n",
       " 'd',\n",
       " 'e',\n",
       " 's',\n",
       " 'k',\n",
       " ' ',\n",
       " 'n',\n",
       " 'u',\n",
       " 'm',\n",
       " 'b',\n",
       " 'e',\n",
       " 'r',\n",
       " ' ',\n",
       " 'i',\n",
       " 's',\n",
       " ' ',\n",
       " '(',\n",
       " '9',\n",
       " '9',\n",
       " '2',\n",
       " ')',\n",
       " '-',\n",
       " '3',\n",
       " '3',\n",
       " '3',\n",
       " '-',\n",
       " '7',\n",
       " '8',\n",
       " '9',\n",
       " '8',\n",
       " ',',\n",
       " 'i',\n",
       " 'n',\n",
       " 'd',\n",
       " 'i',\n",
       " 'a',\n",
       " 'n',\n",
       " ' ',\n",
       " 'c',\n",
       " 'i',\n",
       " 't',\n",
       " 'i',\n",
       " 'z',\n",
       " 'e',\n",
       " 'n',\n",
       " 's',\n",
       " ' ',\n",
       " 'c',\n",
       " 'o',\n",
       " 'n',\n",
       " 't',\n",
       " 'a',\n",
       " 'c',\n",
       " 't',\n",
       " ' ',\n",
       " 'i',\n",
       " 'n',\n",
       " ' ',\n",
       " '9',\n",
       " '0',\n",
       " '2',\n",
       " '5',\n",
       " '4',\n",
       " '1',\n",
       " '0',\n",
       " '0',\n",
       " '0',\n",
       " '0',\n",
       " ' ',\n",
       " 'c',\n",
       " 'o',\n",
       " 'n',\n",
       " 't',\n",
       " 'a',\n",
       " 'c',\n",
       " 't',\n",
       " ' ',\n",
       " 'a',\n",
       " 'n',\n",
       " 'y',\n",
       " ' ',\n",
       " 't',\n",
       " 'i',\n",
       " 'm',\n",
       " 'e',\n",
       " ',',\n",
       " 'w',\n",
       " 'e',\n",
       " ' ',\n",
       " 'a',\n",
       " 'r',\n",
       " 'e',\n",
       " ' ',\n",
       " 'h',\n",
       " 'e',\n",
       " 'r',\n",
       " 'e',\n",
       " ' ',\n",
       " 't',\n",
       " 'o',\n",
       " ' ',\n",
       " 'h',\n",
       " 'e',\n",
       " 'l',\n",
       " 'p',\n",
       " ' ',\n",
       " 'y',\n",
       " 'o',\n",
       " 'u']"
      ]
     },
     "execution_count": 21,
     "metadata": {},
     "output_type": "execute_result"
    }
   ],
   "source": [
    "text5=word=\"our company's help desk number is (992)-333-7898,indian citizens contact in 9025410000 contact any time\\n,we are here to help you\"\n",
    "number1=re.findall('[^\\n]',text5) #everything except \\n\n",
    "number1"
   ]
  },
  {
   "cell_type": "code",
   "execution_count": 23,
   "id": "995d6f9b",
   "metadata": {
    "scrolled": true
   },
   "outputs": [
    {
     "data": {
      "text/plain": [
       "['o',\n",
       " 'u',\n",
       " 'r',\n",
       " ' ',\n",
       " 'c',\n",
       " 'o',\n",
       " 'm',\n",
       " 'p',\n",
       " 'a',\n",
       " 'n',\n",
       " 'y',\n",
       " \"'\",\n",
       " 's',\n",
       " ' ',\n",
       " 'h',\n",
       " 'e',\n",
       " 'l',\n",
       " 'p',\n",
       " ' ',\n",
       " 'd',\n",
       " 'e',\n",
       " 's',\n",
       " 'k',\n",
       " ' ',\n",
       " 'n',\n",
       " 'u',\n",
       " 'm',\n",
       " 'b',\n",
       " 'e',\n",
       " 'r',\n",
       " ' ',\n",
       " 'i',\n",
       " 's',\n",
       " ' ',\n",
       " '(',\n",
       " ')',\n",
       " '-',\n",
       " '-',\n",
       " ',',\n",
       " 'i',\n",
       " 'n',\n",
       " 'd',\n",
       " 'i',\n",
       " 'a',\n",
       " 'n',\n",
       " ' ',\n",
       " 'c',\n",
       " 'i',\n",
       " 't',\n",
       " 'i',\n",
       " 'z',\n",
       " 'e',\n",
       " 'n',\n",
       " 's',\n",
       " ' ',\n",
       " 'c',\n",
       " 'o',\n",
       " 'n',\n",
       " 't',\n",
       " 'a',\n",
       " 'c',\n",
       " 't',\n",
       " ' ',\n",
       " 'i',\n",
       " 'n',\n",
       " ' ',\n",
       " ' ',\n",
       " 'c',\n",
       " 'o',\n",
       " 'n',\n",
       " 't',\n",
       " 'a',\n",
       " 'c',\n",
       " 't',\n",
       " ' ',\n",
       " 'a',\n",
       " 'n',\n",
       " 'y',\n",
       " ' ',\n",
       " 't',\n",
       " 'i',\n",
       " 'm',\n",
       " 'e']"
      ]
     },
     "execution_count": 23,
     "metadata": {},
     "output_type": "execute_result"
    }
   ],
   "source": [
    "word=\"our company's help desk number is (992)-333-7898,indian citizens contact in 9025410000 contact any time\"\n",
    "number1=re.findall('[^\\d]',word) #everything except '\\d'[digits]\n",
    "number1"
   ]
  },
  {
   "cell_type": "markdown",
   "id": "5323b543",
   "metadata": {},
   "source": [
    "taking positions from a sentence"
   ]
  },
  {
   "cell_type": "code",
   "execution_count": 24,
   "id": "819cc8ee",
   "metadata": {},
   "outputs": [
    {
     "name": "stdout",
     "output_type": "stream",
     "text": [
      "<re.Match object; span=(0, 5), match='start'>\n"
     ]
    }
   ],
   "source": [
    "sentence='start a sentence and bring it to an end'\n",
    "pattern=re.compile(r'start')\n",
    "matches=pattern.search(sentence)\n",
    "print(matches)"
   ]
  },
  {
   "cell_type": "code",
   "execution_count": 25,
   "id": "f490ef79",
   "metadata": {},
   "outputs": [
    {
     "name": "stdout",
     "output_type": "stream",
     "text": [
      "<re.Match object; span=(36, 39), match='end'>\n"
     ]
    }
   ],
   "source": [
    "sentence='start a sentence and bring it to an end'\n",
    "pattern=re.compile(r'end')\n",
    "matches=pattern.search(sentence)\n",
    "print(matches)"
   ]
  },
  {
   "cell_type": "code",
   "execution_count": 26,
   "id": "9e233f2d",
   "metadata": {},
   "outputs": [
    {
     "name": "stdout",
     "output_type": "stream",
     "text": [
      "<re.Match object; span=(23, 33), match='@gmail.com'>\n"
     ]
    }
   ],
   "source": [
    "sentence='contact us at glorifier@gmail.com'\n",
    "pattern=re.compile(r'\\@gmail.com')\n",
    "matches=pattern.search(sentence)\n",
    "print(matches)"
   ]
  },
  {
   "cell_type": "code",
   "execution_count": 27,
   "id": "42d74c65",
   "metadata": {},
   "outputs": [
    {
     "name": "stdout",
     "output_type": "stream",
     "text": [
      "<re.Match object; span=(70, 71), match='8'>\n"
     ]
    }
   ],
   "source": [
    "sentence='we are datascience carrier buiders,for more information contact us at 8281850186'\n",
    "pattern=re.compile(r'\\d')\n",
    "matches=pattern.search(sentence)\n",
    "print(matches)"
   ]
  },
  {
   "cell_type": "code",
   "execution_count": 28,
   "id": "8c9fe3d1",
   "metadata": {},
   "outputs": [
    {
     "name": "stdout",
     "output_type": "stream",
     "text": [
      "<re.Match object; span=(70, 71), match='8'>\n",
      "<re.Match object; span=(71, 72), match='2'>\n",
      "<re.Match object; span=(72, 73), match='8'>\n",
      "<re.Match object; span=(73, 74), match='1'>\n",
      "<re.Match object; span=(74, 75), match='8'>\n",
      "<re.Match object; span=(75, 76), match='5'>\n",
      "<re.Match object; span=(76, 77), match='0'>\n",
      "<re.Match object; span=(77, 78), match='1'>\n",
      "<re.Match object; span=(78, 79), match='8'>\n",
      "<re.Match object; span=(79, 80), match='6'>\n"
     ]
    }
   ],
   "source": [
    "sentence='we are datascience carrier buiders,for more information contact us at 8281850186'\n",
    "pattern=re.compile(r'\\d') #only digits\n",
    "matches=pattern.finditer(sentence)\n",
    "for match in matches:\n",
    "    print(match)"
   ]
  },
  {
   "cell_type": "code",
   "execution_count": 29,
   "id": "9343a94c",
   "metadata": {},
   "outputs": [
    {
     "name": "stdout",
     "output_type": "stream",
     "text": [
      "<re.Match object; span=(0, 1), match='w'>\n",
      "<re.Match object; span=(1, 2), match='e'>\n",
      "<re.Match object; span=(2, 3), match=' '>\n",
      "<re.Match object; span=(3, 4), match='a'>\n",
      "<re.Match object; span=(4, 5), match='r'>\n",
      "<re.Match object; span=(5, 6), match='e'>\n",
      "<re.Match object; span=(6, 7), match=' '>\n",
      "<re.Match object; span=(7, 8), match='d'>\n",
      "<re.Match object; span=(8, 9), match='a'>\n",
      "<re.Match object; span=(9, 10), match='t'>\n",
      "<re.Match object; span=(10, 11), match='a'>\n",
      "<re.Match object; span=(11, 12), match='s'>\n",
      "<re.Match object; span=(12, 13), match='c'>\n",
      "<re.Match object; span=(13, 14), match='i'>\n",
      "<re.Match object; span=(14, 15), match='e'>\n",
      "<re.Match object; span=(15, 16), match='n'>\n",
      "<re.Match object; span=(16, 17), match='c'>\n",
      "<re.Match object; span=(17, 18), match='e'>\n",
      "<re.Match object; span=(18, 19), match=' '>\n",
      "<re.Match object; span=(19, 20), match='c'>\n",
      "<re.Match object; span=(20, 21), match='a'>\n",
      "<re.Match object; span=(21, 22), match='r'>\n",
      "<re.Match object; span=(22, 23), match='r'>\n",
      "<re.Match object; span=(23, 24), match='i'>\n",
      "<re.Match object; span=(24, 25), match='e'>\n",
      "<re.Match object; span=(25, 26), match='r'>\n",
      "<re.Match object; span=(26, 27), match=' '>\n",
      "<re.Match object; span=(27, 28), match='b'>\n",
      "<re.Match object; span=(28, 29), match='u'>\n",
      "<re.Match object; span=(29, 30), match='i'>\n",
      "<re.Match object; span=(30, 31), match='d'>\n",
      "<re.Match object; span=(31, 32), match='e'>\n",
      "<re.Match object; span=(32, 33), match='r'>\n",
      "<re.Match object; span=(33, 34), match='s'>\n",
      "<re.Match object; span=(34, 35), match=','>\n",
      "<re.Match object; span=(35, 36), match='f'>\n",
      "<re.Match object; span=(36, 37), match='o'>\n",
      "<re.Match object; span=(37, 38), match='r'>\n",
      "<re.Match object; span=(38, 39), match=' '>\n",
      "<re.Match object; span=(39, 40), match='m'>\n",
      "<re.Match object; span=(40, 41), match='o'>\n",
      "<re.Match object; span=(41, 42), match='r'>\n",
      "<re.Match object; span=(42, 43), match='e'>\n",
      "<re.Match object; span=(43, 44), match=' '>\n",
      "<re.Match object; span=(44, 45), match='i'>\n",
      "<re.Match object; span=(45, 46), match='n'>\n",
      "<re.Match object; span=(46, 47), match='f'>\n",
      "<re.Match object; span=(47, 48), match='o'>\n",
      "<re.Match object; span=(48, 49), match='r'>\n",
      "<re.Match object; span=(49, 50), match='m'>\n",
      "<re.Match object; span=(50, 51), match='a'>\n",
      "<re.Match object; span=(51, 52), match='t'>\n",
      "<re.Match object; span=(52, 53), match='i'>\n",
      "<re.Match object; span=(53, 54), match='o'>\n",
      "<re.Match object; span=(54, 55), match='n'>\n",
      "<re.Match object; span=(55, 56), match=' '>\n",
      "<re.Match object; span=(56, 57), match='c'>\n",
      "<re.Match object; span=(57, 58), match='o'>\n",
      "<re.Match object; span=(58, 59), match='n'>\n",
      "<re.Match object; span=(59, 60), match='t'>\n",
      "<re.Match object; span=(60, 61), match='a'>\n",
      "<re.Match object; span=(61, 62), match='c'>\n",
      "<re.Match object; span=(62, 63), match='t'>\n",
      "<re.Match object; span=(63, 64), match=' '>\n",
      "<re.Match object; span=(64, 65), match='u'>\n",
      "<re.Match object; span=(65, 66), match='s'>\n",
      "<re.Match object; span=(66, 67), match=' '>\n",
      "<re.Match object; span=(67, 68), match='a'>\n",
      "<re.Match object; span=(68, 69), match='t'>\n",
      "<re.Match object; span=(69, 70), match=' '>\n"
     ]
    }
   ],
   "source": [
    "sentence='we are datascience carrier buiders,for more information contact us at 8281850186'\n",
    "pattern=re.compile(r'\\D') #only alphabets\n",
    "matches=pattern.finditer(sentence)\n",
    "for match in matches:\n",
    "    print(match)"
   ]
  },
  {
   "cell_type": "code",
   "execution_count": 30,
   "id": "b5a4f4d1",
   "metadata": {},
   "outputs": [
    {
     "name": "stdout",
     "output_type": "stream",
     "text": [
      "<re.Match object; span=(2, 3), match=' '>\n",
      "<re.Match object; span=(6, 7), match=' '>\n",
      "<re.Match object; span=(18, 19), match=' '>\n",
      "<re.Match object; span=(26, 27), match=' '>\n",
      "<re.Match object; span=(34, 35), match=','>\n",
      "<re.Match object; span=(38, 39), match=' '>\n",
      "<re.Match object; span=(43, 44), match=' '>\n",
      "<re.Match object; span=(55, 56), match=' '>\n",
      "<re.Match object; span=(63, 64), match=' '>\n",
      "<re.Match object; span=(66, 67), match=' '>\n",
      "<re.Match object; span=(69, 70), match=' '>\n"
     ]
    }
   ],
   "source": [
    "sentence='we are datascience carrier buiders,for more information contact us at 8281850186'\n",
    "pattern=re.compile(r'\\W') # alphaneumeric\n",
    "matches=pattern.finditer(sentence)\n",
    "for match in matches:\n",
    "    print(match)"
   ]
  },
  {
   "cell_type": "code",
   "execution_count": 31,
   "id": "04005433",
   "metadata": {},
   "outputs": [
    {
     "data": {
      "text/plain": [
       "[' ', ' ', ' ', ' ', ' ', ' ', ' ', ' ', ' ', ' ']"
      ]
     },
     "execution_count": 31,
     "metadata": {},
     "output_type": "execute_result"
    }
   ],
   "source": [
    "sentence='we are datascience carrier buiders,for more information contact us at 8281850186'\n",
    "pattern=re.findall(r'\\s',sentence)#spaces small 's'\n",
    "pattern "
   ]
  },
  {
   "cell_type": "code",
   "execution_count": 32,
   "id": "24cb2caa",
   "metadata": {},
   "outputs": [
    {
     "data": {
      "text/plain": [
       "['w',\n",
       " 'e',\n",
       " 'a',\n",
       " 'r',\n",
       " 'e',\n",
       " 'd',\n",
       " 'a',\n",
       " 't',\n",
       " 'a',\n",
       " 's',\n",
       " 'c',\n",
       " 'i',\n",
       " 'e',\n",
       " 'n',\n",
       " 'c',\n",
       " 'e',\n",
       " 'c',\n",
       " 'a',\n",
       " 'r',\n",
       " 'r',\n",
       " 'i',\n",
       " 'e',\n",
       " 'r',\n",
       " 'b',\n",
       " 'u',\n",
       " 'i',\n",
       " 'd',\n",
       " 'e',\n",
       " 'r',\n",
       " 's',\n",
       " ',',\n",
       " 'f',\n",
       " 'o',\n",
       " 'r',\n",
       " 'm',\n",
       " 'o',\n",
       " 'r',\n",
       " 'e',\n",
       " 'i',\n",
       " 'n',\n",
       " 'f',\n",
       " 'o',\n",
       " 'r',\n",
       " 'm',\n",
       " 'a',\n",
       " 't',\n",
       " 'i',\n",
       " 'o',\n",
       " 'n',\n",
       " 'c',\n",
       " 'o',\n",
       " 'n',\n",
       " 't',\n",
       " 'a',\n",
       " 'c',\n",
       " 't',\n",
       " 'u',\n",
       " 's',\n",
       " 'a',\n",
       " 't',\n",
       " '8',\n",
       " '2',\n",
       " '8',\n",
       " '1',\n",
       " '8',\n",
       " '5',\n",
       " '0',\n",
       " '1',\n",
       " '8',\n",
       " '6']"
      ]
     },
     "execution_count": 32,
     "metadata": {},
     "output_type": "execute_result"
    }
   ],
   "source": [
    "sentence='we are datascience carrier buiders,for more information contact us at 8281850186'\n",
    "pattern=re.findall(r'\\S',sentence) # all letters capital S \n",
    "pattern"
   ]
  },
  {
   "cell_type": "code",
   "execution_count": 35,
   "id": "d070f5b0",
   "metadata": {},
   "outputs": [
    {
     "name": "stdout",
     "output_type": "stream",
     "text": [
      "['ai', 'ai']\n"
     ]
    }
   ],
   "source": [
    "txt='the rain in spain'\n",
    "v=re.findall('ai',txt)\n",
    "print(v)"
   ]
  },
  {
   "cell_type": "code",
   "execution_count": 36,
   "id": "033ccd12",
   "metadata": {},
   "outputs": [
    {
     "name": "stdout",
     "output_type": "stream",
     "text": [
      "[]\n"
     ]
    }
   ],
   "source": [
    "txt='the rain in spain'\n",
    "v=re.findall('italy',txt)\n",
    "print(v)"
   ]
  },
  {
   "cell_type": "code",
   "execution_count": 37,
   "id": "e715652f",
   "metadata": {},
   "outputs": [
    {
     "name": "stdout",
     "output_type": "stream",
     "text": [
      "['the', 'rain', 'in', 'spain']\n"
     ]
    }
   ],
   "source": [
    "txt='the rain in spain' # split\n",
    "v=re.split('\\s',txt)\n",
    "print(v)"
   ]
  },
  {
   "cell_type": "code",
   "execution_count": 39,
   "id": "c82b7151",
   "metadata": {},
   "outputs": [
    {
     "name": "stdout",
     "output_type": "stream",
     "text": [
      "the10rain10in10spain\n"
     ]
    }
   ],
   "source": [
    "txt='the rain in spain' #substitute\n",
    "v=re.sub('\\s','10',txt)\n",
    "print(v)"
   ]
  },
  {
   "cell_type": "code",
   "execution_count": 40,
   "id": "431a337e",
   "metadata": {},
   "outputs": [
    {
     "name": "stdout",
     "output_type": "stream",
     "text": [
      "['9', '9', '9']\n"
     ]
    }
   ],
   "source": [
    "sen='the product costs 999 rupees'\n",
    "se=re.findall('\\d',sen)\n",
    "print(se)"
   ]
  },
  {
   "cell_type": "code",
   "execution_count": 41,
   "id": "111a3119",
   "metadata": {},
   "outputs": [
    {
     "name": "stdout",
     "output_type": "stream",
     "text": [
      "['product']\n"
     ]
    }
   ],
   "source": [
    "sen='the product costs 999 rupees'\n",
    "se=re.findall('p.....t',sen)\n",
    "print(se)"
   ]
  },
  {
   "cell_type": "code",
   "execution_count": 42,
   "id": "853165e7",
   "metadata": {},
   "outputs": [
    {
     "name": "stdout",
     "output_type": "stream",
     "text": [
      "['costs']\n"
     ]
    }
   ],
   "source": [
    "sen='the product costs 999 rupees'\n",
    "se=re.findall('c...s',sen)\n",
    "print(se)"
   ]
  },
  {
   "cell_type": "code",
   "execution_count": 43,
   "id": "715bc2c2",
   "metadata": {},
   "outputs": [
    {
     "name": "stdout",
     "output_type": "stream",
     "text": [
      "['rupees']\n"
     ]
    }
   ],
   "source": [
    "sen='the product costs 999 rupees'\n",
    "se=re.findall('r....s',sen)\n",
    "print(se)"
   ]
  },
  {
   "cell_type": "code",
   "execution_count": 44,
   "id": "76867ff8",
   "metadata": {},
   "outputs": [
    {
     "name": "stdout",
     "output_type": "stream",
     "text": [
      "yes, the string stars with the\n"
     ]
    }
   ],
   "source": [
    "sen='the product costs 999 rupees'\n",
    "se=re.findall('^the',sen)\n",
    "if se:\n",
    "    print('yes, the string stars with the')\n",
    "else:\n",
    "    print('no,the string not start with the')"
   ]
  },
  {
   "cell_type": "code",
   "execution_count": 45,
   "id": "1efa67a0",
   "metadata": {},
   "outputs": [
    {
     "name": "stdout",
     "output_type": "stream",
     "text": [
      "yes, the string ends with rupees\n"
     ]
    }
   ],
   "source": [
    "sen='the product costs 999 rupees'\n",
    "se=re.findall('rupees$',sen)\n",
    "if se:\n",
    "    print('yes, the string ends with rupees')\n",
    "else:\n",
    "    print('no,the string not ends with rupees')"
   ]
  },
  {
   "cell_type": "code",
   "execution_count": 46,
   "id": "6ec78c4e",
   "metadata": {},
   "outputs": [
    {
     "name": "stdout",
     "output_type": "stream",
     "text": [
      "no,the string not ends with the\n"
     ]
    }
   ],
   "source": [
    "sen='the product costs 999 rupees'\n",
    "se=re.findall('the$',sen)\n",
    "if se:\n",
    "    print('yes, the string ends with the')\n",
    "else:\n",
    "    print('no,the string not ends with the')"
   ]
  },
  {
   "cell_type": "code",
   "execution_count": null,
   "id": "7abfac55",
   "metadata": {},
   "outputs": [],
   "source": []
  },
  {
   "cell_type": "code",
   "execution_count": null,
   "id": "d7e80d4f",
   "metadata": {},
   "outputs": [],
   "source": []
  },
  {
   "cell_type": "code",
   "execution_count": null,
   "id": "c22998b8",
   "metadata": {},
   "outputs": [],
   "source": []
  }
 ],
 "metadata": {
  "kernelspec": {
   "display_name": "Python 3 (ipykernel)",
   "language": "python",
   "name": "python3"
  },
  "language_info": {
   "codemirror_mode": {
    "name": "ipython",
    "version": 3
   },
   "file_extension": ".py",
   "mimetype": "text/x-python",
   "name": "python",
   "nbconvert_exporter": "python",
   "pygments_lexer": "ipython3",
   "version": "3.9.13"
  }
 },
 "nbformat": 4,
 "nbformat_minor": 5
}
