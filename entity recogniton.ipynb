{
 "cells": [
  {
   "cell_type": "code",
   "execution_count": 1,
   "id": "a23e68f3",
   "metadata": {},
   "outputs": [],
   "source": [
    "import spacy\n",
    "nlp=spacy.load('en_core_web_sm')"
   ]
  },
  {
   "cell_type": "code",
   "execution_count": 3,
   "id": "5de1df2c",
   "metadata": {},
   "outputs": [],
   "source": [
    "def show_entity(file):\n",
    "    for entities in file.ents:\n",
    "        if file.ents:\n",
    "            print(entities.text,'--->',entities.label_,'--->',str(spacy.explain(entities.label_)))\n",
    "        else:\n",
    "                print('no named entities found')"
   ]
  },
  {
   "cell_type": "code",
   "execution_count": 4,
   "id": "12873626",
   "metadata": {},
   "outputs": [
    {
     "name": "stdout",
     "output_type": "stream",
     "text": [
      "AI ---> ORG ---> Companies, agencies, institutions, etc.\n",
      "Google ---> ORG ---> Companies, agencies, institutions, etc.\n",
      "Sundar pichai ---> PERSON ---> People, including fictional\n"
     ]
    }
   ],
   "source": [
    "file=nlp(\"hi,welcome to AI course offered by Google's ceo Sundar pichai\" )\n",
    "show_entity(file)"
   ]
  },
  {
   "cell_type": "code",
   "execution_count": 5,
   "id": "e685c97f",
   "metadata": {},
   "outputs": [
    {
     "name": "stdout",
     "output_type": "stream",
     "text": [
      "U.K. ---> GPE ---> Countries, cities, states\n",
      "U.S.A ---> GPE ---> Countries, cities, states\n"
     ]
    }
   ],
   "source": [
    "file2=nlp('can i go to U.K. or U.S.A, after my covid test is negative?')\n",
    "show_entity(file2)"
   ]
  },
  {
   "cell_type": "code",
   "execution_count": 6,
   "id": "485008f5",
   "metadata": {},
   "outputs": [
    {
     "name": "stdout",
     "output_type": "stream",
     "text": [
      "500 dollars 4 6 20 31 MONEY\n",
      "john 7 8 37 41 PERSON\n"
     ]
    }
   ],
   "source": [
    "doc=nlp('can i please borrow 500 dollars from john so that i can get a new laptop?')\n",
    "for ent in doc.ents:\n",
    "    print(ent.text,ent.start,ent.end,ent.start_char,ent.end_char,ent.label_)"
   ]
  },
  {
   "cell_type": "code",
   "execution_count": 7,
   "id": "978b8a72",
   "metadata": {},
   "outputs": [
    {
     "name": "stdout",
     "output_type": "stream",
     "text": [
      "U.K ---> ORG ---> Companies, agencies, institutions, etc.\n",
      "$6 million ---> MONEY ---> Monetary values, including unit\n"
     ]
    }
   ],
   "source": [
    "doc=nlp('oracuz is going to start a U.K based company worth $6 million.')\n",
    "show_entity(doc)"
   ]
  },
  {
   "cell_type": "code",
   "execution_count": null,
   "id": "04f9d989",
   "metadata": {},
   "outputs": [],
   "source": [
    "#ORACUZ is not concidered as entity so we can add that"
   ]
  },
  {
   "cell_type": "code",
   "execution_count": 8,
   "id": "a91159e3",
   "metadata": {},
   "outputs": [
    {
     "data": {
      "text/plain": [
       "6"
      ]
     },
     "execution_count": 8,
     "metadata": {},
     "output_type": "execute_result"
    }
   ],
   "source": [
    "len('oracuz')"
   ]
  },
  {
   "cell_type": "code",
   "execution_count": 12,
   "id": "f66bb8a3",
   "metadata": {},
   "outputs": [],
   "source": [
    "from spacy.tokens import Span"
   ]
  },
  {
   "cell_type": "code",
   "execution_count": 13,
   "id": "9e4b0f76",
   "metadata": {},
   "outputs": [],
   "source": [
    "ORG=doc.vocab.strings[u'ORG']\n",
    "new_ent=Span(doc,0,1,label=ORG)\n",
    "doc.ents=list(doc.ents)+[new_ent]"
   ]
  },
  {
   "cell_type": "code",
   "execution_count": 14,
   "id": "cb8d7fd7",
   "metadata": {},
   "outputs": [
    {
     "name": "stdout",
     "output_type": "stream",
     "text": [
      "oracuz ---> ORG ---> Companies, agencies, institutions, etc.\n",
      "U.K ---> ORG ---> Companies, agencies, institutions, etc.\n",
      "$6 million ---> MONEY ---> Monetary values, including unit\n"
     ]
    }
   ],
   "source": [
    "show_entity(doc)"
   ]
  },
  {
   "cell_type": "code",
   "execution_count": 20,
   "id": "717a25fb",
   "metadata": {},
   "outputs": [],
   "source": [
    "d=nlp('Ashes is a popular tennis ball cricket team in thiruvananthapuram')\n",
    "show_entity(d)"
   ]
  },
  {
   "cell_type": "code",
   "execution_count": 21,
   "id": "0b059e67",
   "metadata": {},
   "outputs": [],
   "source": [
    "ORG= d.vocab.strings[u'ORG']\n",
    "n_ent=Span(d,0,1,label=ORG)\n",
    "d.ents=list(d.ents)+[n_ent]\n",
    "\n",
    "GPE= d.vocab.strings[u'GPE']\n",
    "n_ent1=Span(d,9,10,label=GPE)\n",
    "d.ents=list(d.ents)+[n_ent1]\n",
    "                     "
   ]
  },
  {
   "cell_type": "code",
   "execution_count": 22,
   "id": "b9b20021",
   "metadata": {},
   "outputs": [
    {
     "name": "stdout",
     "output_type": "stream",
     "text": [
      "Ashes ---> ORG ---> Companies, agencies, institutions, etc.\n",
      "thiruvananthapuram ---> GPE ---> Countries, cities, states\n"
     ]
    }
   ],
   "source": [
    "show_entity(d)"
   ]
  },
  {
   "cell_type": "code",
   "execution_count": 31,
   "id": "67461e2e",
   "metadata": {},
   "outputs": [
    {
     "name": "stdout",
     "output_type": "stream",
     "text": [
      "Nesfruita-PERSON-People, including fictional\n",
      "India-GPE-Countries, cities, states\n"
     ]
    }
   ],
   "source": [
    "sen=nlp(u'Nesfruita aaisa is setting up a new company in India')\n",
    "for entity in sen.ents:\n",
    "    print(entity.text+'-'+entity.label_ +'-'+str(spacy.explain(entity.label_)))"
   ]
  },
  {
   "cell_type": "code",
   "execution_count": 32,
   "id": "ddcb4d3d",
   "metadata": {},
   "outputs": [],
   "source": [
    "ORG=sen.vocab.strings[u'ORG']\n",
    "new_entity11=Span(sen,1,2,label=ORG)\n",
    "sen.ents=list(sen.ents)+[new_entity11]"
   ]
  },
  {
   "cell_type": "code",
   "execution_count": 33,
   "id": "8126c617",
   "metadata": {},
   "outputs": [
    {
     "name": "stdout",
     "output_type": "stream",
     "text": [
      "Nesfruita-PERSON-People, including fictional\n",
      "aaisa-ORG-Companies, agencies, institutions, etc.\n",
      "India-GPE-Countries, cities, states\n"
     ]
    }
   ],
   "source": [
    "for entity in sen.ents:\n",
    "    print(entity.text+'-'+entity.label_ +'-'+str(spacy.explain(entity.label_)))"
   ]
  },
  {
   "cell_type": "code",
   "execution_count": null,
   "id": "edf78526",
   "metadata": {},
   "outputs": [],
   "source": []
  }
 ],
 "metadata": {
  "kernelspec": {
   "display_name": "Python 3 (ipykernel)",
   "language": "python",
   "name": "python3"
  },
  "language_info": {
   "codemirror_mode": {
    "name": "ipython",
    "version": 3
   },
   "file_extension": ".py",
   "mimetype": "text/x-python",
   "name": "python",
   "nbconvert_exporter": "python",
   "pygments_lexer": "ipython3",
   "version": "3.9.13"
  }
 },
 "nbformat": 4,
 "nbformat_minor": 5
}
