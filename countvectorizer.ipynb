{
 "cells": [
  {
   "cell_type": "code",
   "execution_count": 1,
   "id": "afaa66c5",
   "metadata": {},
   "outputs": [],
   "source": [
    "from sklearn.feature_extraction.text import CountVectorizer"
   ]
  },
  {
   "cell_type": "code",
   "execution_count": 2,
   "id": "cb78eed9",
   "metadata": {},
   "outputs": [],
   "source": [
    "text=['the quick brown fox jump over the lazy dog']"
   ]
  },
  {
   "cell_type": "code",
   "execution_count": 3,
   "id": "533140c9",
   "metadata": {},
   "outputs": [
    {
     "name": "stdout",
     "output_type": "stream",
     "text": [
      "{'the': 7, 'quick': 6, 'brown': 0, 'fox': 2, 'jump': 3, 'over': 5, 'lazy': 4, 'dog': 1}\n"
     ]
    }
   ],
   "source": [
    "vectorizer=CountVectorizer()\n",
    "vectorizer.fit(text)\n",
    "print(vectorizer.vocabulary_)"
   ]
  },
  {
   "cell_type": "code",
   "execution_count": 4,
   "id": "8bec5bd4",
   "metadata": {},
   "outputs": [
    {
     "name": "stdout",
     "output_type": "stream",
     "text": [
      "(1, 8)\n",
      "<class 'scipy.sparse._csr.csr_matrix'>\n",
      "[[1 1 1 1 1 1 1 2]]\n"
     ]
    }
   ],
   "source": [
    "vector=vectorizer.transform(text)\n",
    "print(vector.shape)\n",
    "print(type(vector))\n",
    "print(vector.toarray())"
   ]
  },
  {
   "cell_type": "code",
   "execution_count": 5,
   "id": "a22dcf81",
   "metadata": {},
   "outputs": [],
   "source": [
    "sentence=['machine learning is the main field of AI','Natural language is much more complex','natural language processing is a subset of machine learning']"
   ]
  },
  {
   "cell_type": "code",
   "execution_count": 6,
   "id": "e682c3ac",
   "metadata": {},
   "outputs": [
    {
     "name": "stdout",
     "output_type": "stream",
     "text": [
      "{'machine': 6, 'learning': 5, 'is': 3, 'the': 14, 'main': 7, 'field': 2, 'of': 11, 'ai': 0, 'natural': 10, 'language': 4, 'much': 9, 'more': 8, 'complex': 1, 'processing': 12, 'subset': 13}\n"
     ]
    }
   ],
   "source": [
    "vectorizer.fit(sentence)\n",
    "print(vectorizer.vocabulary_)"
   ]
  },
  {
   "cell_type": "code",
   "execution_count": 7,
   "id": "d52cec72",
   "metadata": {},
   "outputs": [
    {
     "name": "stdout",
     "output_type": "stream",
     "text": [
      "(3, 15)\n",
      "<class 'scipy.sparse._csr.csr_matrix'>\n",
      "[[1 0 1 1 0 1 1 1 0 0 0 1 0 0 1]\n",
      " [0 1 0 1 1 0 0 0 1 1 1 0 0 0 0]\n",
      " [0 0 0 1 1 1 1 0 0 0 1 1 1 1 0]]\n"
     ]
    }
   ],
   "source": [
    "vector1=vectorizer.transform(sentence)\n",
    "print(vector1.shape)\n",
    "print(type(vector1))\n",
    "print(vector1.toarray())"
   ]
  },
  {
   "cell_type": "code",
   "execution_count": 8,
   "id": "43cb8438",
   "metadata": {},
   "outputs": [
    {
     "name": "stdout",
     "output_type": "stream",
     "text": [
      "  (0, 6)\t1\n",
      "  (0, 5)\t1\n",
      "  (0, 3)\t1\n",
      "  (0, 14)\t1\n",
      "  (0, 7)\t1\n",
      "  (0, 2)\t1\n",
      "  (0, 11)\t1\n",
      "  (0, 0)\t1\n",
      "  (1, 3)\t1\n",
      "  (1, 10)\t1\n",
      "  (1, 4)\t1\n",
      "  (1, 9)\t1\n",
      "  (1, 8)\t1\n",
      "  (1, 1)\t1\n",
      "  (2, 6)\t1\n",
      "  (2, 5)\t1\n",
      "  (2, 3)\t1\n",
      "  (2, 11)\t1\n",
      "  (2, 10)\t1\n",
      "  (2, 4)\t1\n",
      "  (2, 12)\t1\n",
      "  (2, 13)\t1\n"
     ]
    }
   ],
   "source": [
    "text_vector_before_array=vectorizer.fit_transform(sentence)\n",
    "print(text_vector_before_array)"
   ]
  },
  {
   "cell_type": "code",
   "execution_count": 10,
   "id": "b9aca90f",
   "metadata": {},
   "outputs": [],
   "source": [
    "text_vector_after_array=text_vector_before_array.toarray()"
   ]
  },
  {
   "cell_type": "code",
   "execution_count": 11,
   "id": "1e74ecbc",
   "metadata": {},
   "outputs": [
    {
     "data": {
      "text/plain": [
       "array([[1, 0, 1, 1, 0, 1, 1, 1, 0, 0, 0, 1, 0, 0, 1],\n",
       "       [0, 1, 0, 1, 1, 0, 0, 0, 1, 1, 1, 0, 0, 0, 0],\n",
       "       [0, 0, 0, 1, 1, 1, 1, 0, 0, 0, 1, 1, 1, 1, 0]], dtype=int64)"
      ]
     },
     "execution_count": 11,
     "metadata": {},
     "output_type": "execute_result"
    }
   ],
   "source": [
    "text_vector_after_array"
   ]
  },
  {
   "cell_type": "code",
   "execution_count": 12,
   "id": "9a88c39a",
   "metadata": {},
   "outputs": [],
   "source": [
    "document=['we love our india','india wonderful','our nation is beauty']"
   ]
  },
  {
   "cell_type": "code",
   "execution_count": 14,
   "id": "a9f4a9e1",
   "metadata": {},
   "outputs": [
    {
     "name": "stdout",
     "output_type": "stream",
     "text": [
      "{'we': 6, 'love': 3, 'our': 5, 'india': 1, 'wonderful': 7, 'nation': 4, 'is': 2, 'beauty': 0}\n"
     ]
    }
   ],
   "source": [
    "vectorizer.fit(document)\n",
    "print(vectorizer.vocabulary_)"
   ]
  },
  {
   "cell_type": "code",
   "execution_count": 15,
   "id": "9b2be885",
   "metadata": {},
   "outputs": [
    {
     "name": "stdout",
     "output_type": "stream",
     "text": [
      "[[0 1 0 1 0 1 1 0]\n",
      " [0 1 0 0 0 0 0 1]\n",
      " [1 0 1 0 1 1 0 0]]\n"
     ]
    }
   ],
   "source": [
    "vector3=vectorizer.transform(document)\n",
    "print(vector3.toarray())"
   ]
  },
  {
   "cell_type": "code",
   "execution_count": null,
   "id": "9db15df0",
   "metadata": {},
   "outputs": [],
   "source": []
  }
 ],
 "metadata": {
  "kernelspec": {
   "display_name": "Python 3 (ipykernel)",
   "language": "python",
   "name": "python3"
  },
  "language_info": {
   "codemirror_mode": {
    "name": "ipython",
    "version": 3
   },
   "file_extension": ".py",
   "mimetype": "text/x-python",
   "name": "python",
   "nbconvert_exporter": "python",
   "pygments_lexer": "ipython3",
   "version": "3.9.13"
  }
 },
 "nbformat": 4,
 "nbformat_minor": 5
}
